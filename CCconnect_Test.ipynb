{
 "cells": [
  {
   "cell_type": "code",
   "execution_count": 2,
   "metadata": {},
   "outputs": [],
   "source": [
    "import sys\n",
    "import json\n",
    "import requests"
   ]
  },
  {
   "cell_type": "code",
   "execution_count": 7,
   "metadata": {},
   "outputs": [],
   "source": [
    "# 🔹 Constants\n",
    "COMPANY_ID = \"de86535f-7695-4aa4-9654-78906191298a\"\n",
    "LOGIN_URL = \"https://v1.cclhp.eu/api/users/login\"\n",
    "QUERY_URL = f\"https://v1.cclhp.eu/api/datasets/\"\n",
    "EMAIL = \"debug@debug.debug\"\n",
    "PASSWORD = \"debug@debug.debug\"\n",
    "\n",
    "\n",
    "# 🔹 Function to get JWT token\n",
    "def get_jwt_token():\n",
    "    payload = {\"email\": EMAIL, \"password\": PASSWORD}\n",
    "    headers = {\"Content-Type\": \"application/json\", \"Accept\": \"application/json\"}\n",
    "\n",
    "    response = requests.post(LOGIN_URL, json=payload, headers=headers)\n",
    "    \n",
    "    if response.status_code == 200:\n",
    "        return response.json()[\"proxy_response\"][\"jwt_token\"]\n",
    "    else:\n",
    "        print(f\"❌ Failed to authenticate: {response.status_code}, {response.text}\")\n",
    "        sys.exit(1)\n",
    "\n",
    "# 🔹 Function to upload CSV file\n",
    "def extract_datasets(jwt_token):\n",
    "    headers = {\n",
    "        \"CCapi-company-id\": COMPANY_ID,\n",
    "        \"Authorization\": f\"Bearer {jwt_token}\",\n",
    "        \"Accept\": \"application/json\"\n",
    "    }\n",
    "\n",
    "    response = requests.get(QUERY_URL, headers=headers)\n",
    "    \n",
    "    if response.status_code == 200:\n",
    "        print(f\"✅ Successfully Extracted Datasets!\")\n",
    "        print(response.text,response.status_code)\n",
    "    else:\n",
    "        print(f\"❌ Upload failed: {response.status_code}, {response.text}\")\n",
    "\n",
    "\n"
   ]
  },
  {
   "cell_type": "code",
   "execution_count": 8,
   "metadata": {},
   "outputs": [
    {
     "name": "stdout",
     "output_type": "stream",
     "text": [
      "✅ Successfully Extracted Datasets!\n",
      "[{\"name\":\"sensor\",\"description\":\"sensor\",\"data_schema\":{\"type\":\"object\",\"properties\":{\"timestamp_sensor\":{\"type\":\"string\",\"cc_def\":{\"type\":\"timestamp\"}},\"tension_l1_n\":{\"type\":\"number\",\"cc_def\":{\"type\":\"numerical\",\"scope\":\"continuous\"}},\"tension_l2_n\":{\"type\":\"number\",\"cc_def\":{\"type\":\"numerical\",\"scope\":\"continuous\"}},\"tension_l3_n\":{\"type\":\"number\",\"cc_def\":{\"type\":\"numerical\",\"scope\":\"continuous\"}},\"apparent_power\":{\"type\":\"number\",\"cc_def\":{\"type\":\"numerical\",\"scope\":\"continuous\"}}}},\"timestamp_field\":\"timestamp_sensor\",\"tags\":null,\"auditable\":{\"created_by\":\"BI-REX@BI-REX.BI-REX\",\"last_update_by\":null,\"deleted_by\":null,\"created_server_date\":\"03/04/2025, 08:52:29\",\"created_local_time\":\"03/04/2025, 08:52:29\",\"last_update_server_date\":null,\"last_update_local_time\":null,\"deleted\":null,\"deleted_server_date\":null,\"deleted_local_time\":null},\"id\":\"de8980bd-27ee-4ffc-b31e-29212fede173\",\"company_id\":\"de86535f-7695-4aa4-9654-78906191298a\",\"owner_infos\":{\"company\":\"BI-REX\",\"company_id\":\"de86535f-7695-4aa4-9654-78906191298a\",\"email\":\"BI-REX@BI-REX.BI-REX\",\"first_name\":\"BI-REX\",\"last_name\":\"BI-REX\",\"role\":\"admin\",\"role_id\":2,\"user_id\":74}},{\"name\":\"Sensor_Data_Lorenzo\",\"description\":\"timestamp_sensor\",\"data_schema\":{\"type\":\"object\",\"properties\":{\"timestamp_sensor\":{\"type\":\"string\",\"cc_def\":{\"type\":\"timestamp\",\"scope\":\"\"},\"isReferenceTimestamp\":true},\"tension_l1_n\":{\"type\":\"number\",\"cc_def\":{\"type\":\"numerical\",\"scope\":\"continuous\",\"format\":{\"type\":\"decimal\",\"options\":{\"digitsInfo\":{\"minIntegerDigits\":1,\"minFractionDigits\":0,\"maxFractionDigits\":2},\"suffix\":\"V\",\"splitBy100\":false,\"currencyCode\":\"EUR\"}}}},\"tension_l2_n\":{\"type\":\"number\",\"cc_def\":{\"type\":\"numerical\",\"scope\":\"continuous\",\"format\":{\"type\":\"decimal\",\"options\":{\"digitsInfo\":{\"minIntegerDigits\":1,\"minFractionDigits\":0,\"maxFractionDigits\":2},\"suffix\":\"V\",\"splitBy100\":false,\"currencyCode\":\"EUR\"}}}},\"tension_l3_n\":{\"type\":\"number\",\"cc_def\":{\"type\":\"numerical\",\"scope\":\"continuous\",\"format\":{\"type\":\"decimal\",\"options\":{\"digitsInfo\":{\"minIntegerDigits\":1,\"minFractionDigits\":0,\"maxFractionDigits\":2},\"suffix\":\"V\",\"splitBy100\":false,\"currencyCode\":\"EUR\"}}}},\"apparent_power\":{\"type\":\"number\",\"cc_def\":{\"type\":\"numerical\",\"scope\":\"continuous\",\"format\":{\"type\":\"decimal\",\"options\":{\"digitsInfo\":{\"minIntegerDigits\":1,\"minFractionDigits\":0,\"maxFractionDigits\":2},\"suffix\":\"VA\",\"splitBy100\":false,\"currencyCode\":\"EUR\"}}}},\"real_power\":{\"type\":\"number\",\"cc_def\":{\"type\":\"numerical\",\"scope\":\"continuous\",\"format\":{\"type\":\"decimal\",\"options\":{\"digitsInfo\":{\"minIntegerDigits\":1,\"minFractionDigits\":0,\"maxFractionDigits\":2},\"suffix\":\"W\",\"splitBy100\":false,\"currencyCode\":\"EUR\"}}}},\"power_factor\":{\"type\":\"number\",\"cc_def\":{\"type\":\"numerical\",\"scope\":\"continuous\"}},\"device_id\":{\"type\":\"string\",\"cc_def\":{\"type\":\"categorical\",\"scope\":\"nominal\"}},\"abs_real_power\":{\"type\":\"number\",\"cc_def\":{\"type\":\"numerical\",\"scope\":\"continuous\",\"format\":{\"type\":\"decimal\",\"options\":{\"digitsInfo\":{\"minIntegerDigits\":1,\"minFractionDigits\":0,\"maxFractionDigits\":2},\"suffix\":\"W\",\"splitBy100\":false,\"currencyCode\":\"EUR\"}}}},\"reactive_power\":{\"type\":\"number\",\"cc_def\":{\"type\":\"numerical\",\"scope\":\"continuous\",\"format\":{\"type\":\"decimal\",\"options\":{\"digitsInfo\":{\"minIntegerDigits\":1,\"minFractionDigits\":0,\"maxFractionDigits\":2},\"suffix\":\"VAr\",\"splitBy100\":false,\"currencyCode\":\"EUR\"}}}},\"frequency\":{\"type\":\"number\",\"cc_def\":{\"type\":\"numerical\",\"scope\":\"continuous\",\"format\":{\"type\":\"decimal\",\"options\":{\"digitsInfo\":{\"minIntegerDigits\":1,\"minFractionDigits\":0,\"maxFractionDigits\":2},\"suffix\":\"Hz\",\"splitBy100\":false,\"currencyCode\":\"EUR\"}}}}}},\"timestamp_field\":\"timestamp_sensor\",\"tags\":null,\"auditable\":{\"created_by\":\"raviteja.chandu@lhpeurope.com\",\"last_update_by\":\"raviteja.chandu@lhpeurope.com\",\"deleted_by\":null,\"created_server_date\":\"03/04/2025, 15:09:29\",\"created_local_time\":\"03/04/2025, 15:09:29\",\"last_update_server_date\":\"03/12/2025, 11:22:41\",\"last_update_local_time\":\"03/12/2025, 11:22:41\",\"deleted\":null,\"deleted_server_date\":null,\"deleted_local_time\":null},\"id\":\"380a05d2-c3d8-498e-9b32-ebbd4d76561f\",\"company_id\":\"de86535f-7695-4aa4-9654-78906191298a\",\"owner_infos\":{\"company\":\"N/A\",\"company_id\":0,\"email\":\"raviteja.chandu@lhpeurope.com\",\"first_name\":\"Raviteja\",\"last_name\":\"Chandu\",\"role\":\"superadmin\",\"role_id\":1,\"user_id\":73}},{\"name\":\"Birex_DMG_Test\",\"description\":\"Test Data\",\"data_schema\":{\"type\":\"object\",\"properties\":{\"device_id\":{\"type\":\"string\",\"cc_def\":{\"type\":\"categorical\",\"scope\":\"nominal\"}},\"timestamp\":{\"type\":\"string\",\"cc_def\":{\"type\":\"timestamp\",\"scope\":\"\"}},\"actspeed\":{\"type\":\"number\",\"cc_def\":{\"type\":\"numerical\",\"scope\":\"continuous\"}},\"toolposx\":{\"type\":\"number\",\"cc_def\":{\"type\":\"numerical\",\"scope\":\"continuous\"}},\"toolposy\":{\"type\":\"number\",\"cc_def\":{\"type\":\"numerical\",\"scope\":\"continuous\"}},\"toolposz\":{\"type\":\"number\",\"cc_def\":{\"type\":\"numerical\",\"scope\":\"continuous\"}},\"toolposc\":{\"type\":\"number\",\"cc_def\":{\"type\":\"numerical\",\"scope\":\"continuous\"}},\"toolposa\":{\"type\":\"number\",\"cc_def\":{\"type\":\"numerical\",\"scope\":\"continuous\"}},\"caricomandrino\":{\"type\":\"number\",\"cc_def\":{\"type\":\"numerical\",\"scope\":\"continuous\"}},\"temperaturamandrino\":{\"type\":\"number\",\"cc_def\":{\"type\":\"numerical\",\"scope\":\"continuous\"}},\"progstatus\":{\"type\":\"number\",\"cc_def\":{\"type\":\"numerical\",\"scope\":\"continuous\"}},\"xstatus\":{\"type\":\"number\",\"cc_def\":{\"type\":\"numerical\",\"scope\":\"continuous\"}},\"ystatus\":{\"type\":\"number\",\"cc_def\":{\"type\":\"numerical\",\"scope\":\"continuous\"}},\"zstatus\":{\"type\":\"number\",\"cc_def\":{\"type\":\"numerical\",\"scope\":\"continuous\"}},\"cstatus\":{\"type\":\"number\",\"cc_def\":{\"type\":\"numerical\",\"scope\":\"continuous\"}},\"astatus\":{\"type\":\"number\",\"cc_def\":{\"type\":\"numerical\",\"scope\":\"continuous\"}},\"xbasepos\":{\"type\":\"number\",\"cc_def\":{\"type\":\"numerical\",\"scope\":\"continuous\"}},\"ybasepos\":{\"type\":\"number\",\"cc_def\":{\"type\":\"numerical\",\"scope\":\"continuous\"}},\"zbasepos\":{\"type\":\"number\",\"cc_def\":{\"type\":\"numerical\",\"scope\":\"continuous\"}},\"cbasepos\":{\"type\":\"number\",\"cc_def\":{\"type\":\"numerical\",\"scope\":\"continuous\"}},\"abasepos\":{\"type\":\"number\",\"cc_def\":{\"type\":\"numerical\",\"scope\":\"continuous\"}},\"xerrpos\":{\"type\":\"number\",\"cc_def\":{\"type\":\"numerical\",\"scope\":\"continuous\"}},\"yerrpos\":{\"type\":\"number\",\"cc_def\":{\"type\":\"numerical\",\"scope\":\"continuous\"}},\"zerrpos\":{\"type\":\"number\",\"cc_def\":{\"type\":\"numerical\",\"scope\":\"continuous\"}},\"cerrpos\":{\"type\":\"number\",\"cc_def\":{\"type\":\"numerical\",\"scope\":\"continuous\"}},\"aerrpos\":{\"type\":\"number\",\"cc_def\":{\"type\":\"numerical\",\"scope\":\"continuous\"}},\"xvapower\":{\"type\":\"number\",\"cc_def\":{\"type\":\"numerical\",\"scope\":\"continuous\"}},\"yvapower\":{\"type\":\"number\",\"cc_def\":{\"type\":\"numerical\",\"scope\":\"continuous\"}},\"zvapower\":{\"type\":\"number\",\"cc_def\":{\"type\":\"numerical\",\"scope\":\"continuous\"}},\"cvapower\":{\"type\":\"number\",\"cc_def\":{\"type\":\"numerical\",\"scope\":\"continuous\"}},\"avapower\":{\"type\":\"number\",\"cc_def\":{\"type\":\"numerical\",\"scope\":\"continuous\"}},\"vatorque\":{\"type\":\"number\",\"cc_def\":{\"type\":\"numerical\",\"scope\":\"continuous\"}},\"aatorque\":{\"type\":\"number\",\"cc_def\":{\"type\":\"numerical\",\"scope\":\"continuous\"}},\"xaacurr\":{\"type\":\"number\",\"cc_def\":{\"type\":\"numerical\",\"scope\":\"continuous\"}},\"yaacurr\":{\"type\":\"number\",\"cc_def\":{\"type\":\"numerical\",\"scope\":\"continuous\"}},\"zaacurr\":{\"type\":\"number\",\"cc_def\":{\"type\":\"numerical\",\"scope\":\"continuous\"}},\"caacurr\":{\"type\":\"number\",\"cc_def\":{\"type\":\"numerical\",\"scope\":\"continuous\"}},\"aaacurr\":{\"type\":\"number\",\"cc_def\":{\"type\":\"numerical\",\"scope\":\"continuous\"}},\"aavactm\":{\"type\":\"number\",\"cc_def\":{\"type\":\"numerical\",\"scope\":\"continuous\"}},\"cmdfeedratex\":{\"type\":\"number\",\"cc_def\":{\"type\":\"numerical\",\"scope\":\"continuous\"}},\"cmdfeedratey\":{\"type\":\"number\",\"cc_def\":{\"type\":\"numerical\",\"scope\":\"continuous\"}},\"cmdfeedratez\":{\"type\":\"number\",\"cc_def\":{\"type\":\"numerical\",\"scope\":\"continuous\"}},\"cmdfeedratec\":{\"type\":\"number\",\"cc_def\":{\"type\":\"numerical\",\"scope\":\"continuous\"}},\"cmdfeedratea\":{\"type\":\"number\",\"cc_def\":{\"type\":\"numerical\",\"scope\":\"continuous\"}},\"actfeedratex\":{\"type\":\"number\",\"cc_def\":{\"type\":\"numerical\",\"scope\":\"continuous\"}},\"actfeedratey\":{\"type\":\"number\",\"cc_def\":{\"type\":\"numerical\",\"scope\":\"continuous\"}},\"actfeedratez\":{\"type\":\"number\",\"cc_def\":{\"type\":\"numerical\",\"scope\":\"continuous\"}},\"actfeedratec\":{\"type\":\"number\",\"cc_def\":{\"type\":\"numerical\",\"scope\":\"continuous\"}},\"actfeedratea\":{\"type\":\"number\",\"cc_def\":{\"type\":\"numerical\",\"scope\":\"continuous\"}}}},\"timestamp_field\":\"timestamp\",\"tags\":null,\"time_aggregations\":null,\"auditable\":{\"created_by\":\"raviteja.chandu@lhpeurope.com\",\"last_update_by\":null,\"deleted_by\":null,\"created_server_date\":\"04/02/2025, 13:43:29\",\"created_local_time\":\"04/02/2025, 13:43:29\",\"last_update_server_date\":null,\"last_update_local_time\":null,\"deleted\":null,\"deleted_server_date\":null,\"deleted_local_time\":null},\"id\":\"a9a7a47a-585c-40de-b644-13705c3f0386\",\"company_id\":\"de86535f-7695-4aa4-9654-78906191298a\",\"owner_infos\":{\"company\":\"N/A\",\"company_id\":0,\"email\":\"raviteja.chandu@lhpeurope.com\",\"first_name\":\"Raviteja\",\"last_name\":\"Chandu\",\"role\":\"superadmin\",\"role_id\":1,\"user_id\":73}}] 200\n"
     ]
    }
   ],
   "source": [
    "# 🔹 Main function\n",
    "try:\n",
    "    # Get JWT token\n",
    "    jwt_token = get_jwt_token()\n",
    "\n",
    "    # Extract Datasets\n",
    "    extract_datasets(jwt_token)\n",
    "\n",
    "\n",
    "except Exception as e:\n",
    "    print(json.dumps({\"error\": str(e)}))"
   ]
  }
 ],
 "metadata": {
  "kernelspec": {
   "display_name": "venv",
   "language": "python",
   "name": "python3"
  },
  "language_info": {
   "codemirror_mode": {
    "name": "ipython",
    "version": 3
   },
   "file_extension": ".py",
   "mimetype": "text/x-python",
   "name": "python",
   "nbconvert_exporter": "python",
   "pygments_lexer": "ipython3",
   "version": "3.13.2"
  }
 },
 "nbformat": 4,
 "nbformat_minor": 2
}
